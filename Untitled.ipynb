{
 "cells": [
  {
   "cell_type": "code",
   "execution_count": 1,
   "id": "de8dca20",
   "metadata": {},
   "outputs": [
    {
     "name": "stdout",
     "output_type": "stream",
     "text": [
      "Enter a number:3\n",
      "Weird\n"
     ]
    }
   ],
   "source": [
    "n =int(input(\"Enter a number:\"))\n",
    "\n",
    "if n%2 !=0:\n",
    "    print(\"Weird\")\n",
    "elif n%2 ==0 and n in range(2, 5):\n",
    "    print(\"Not Weird\")\n",
    "elif n%2 ==0 and n in range(6, 20):\n",
    "    print(\"Weird\")\n",
    "elif n%2 ==0 and n>20:\n",
    "    print(\"Not Weird\")"
   ]
  },
  {
   "cell_type": "code",
   "execution_count": null,
   "id": "5d152a04",
   "metadata": {},
   "outputs": [],
   "source": []
  },
  {
   "cell_type": "code",
   "execution_count": 2,
   "id": "5d2da5a9",
   "metadata": {},
   "outputs": [
    {
     "name": "stdout",
     "output_type": "stream",
     "text": [
      "Enter a number:24\n",
      "Not Weird\n"
     ]
    }
   ],
   "source": [
    "n =int(input(\"Enter a number:\"))\n",
    "\n",
    "if n%2 !=0:\n",
    "    print(\"Weird\")\n",
    "elif n%2 ==0 and n in range(2, 5):\n",
    "    print(\"Not Weird\")\n",
    "elif n%2 ==0 and n in range(6, 20):\n",
    "    print(\"Weird\")\n",
    "elif n%2 ==0 and n>20:\n",
    "    print(\"Not Weird\")"
   ]
  },
  {
   "cell_type": "code",
   "execution_count": null,
   "id": "84588c15",
   "metadata": {},
   "outputs": [],
   "source": []
  }
 ],
 "metadata": {
  "kernelspec": {
   "display_name": "Python 3",
   "language": "python",
   "name": "python3"
  },
  "language_info": {
   "codemirror_mode": {
    "name": "ipython",
    "version": 3
   },
   "file_extension": ".py",
   "mimetype": "text/x-python",
   "name": "python",
   "nbconvert_exporter": "python",
   "pygments_lexer": "ipython3",
   "version": "3.8.8"
  }
 },
 "nbformat": 4,
 "nbformat_minor": 5
}
